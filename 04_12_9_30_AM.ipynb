{
 "cells": [
  {
   "cell_type": "code",
   "execution_count": 1,
   "id": "ceca0fd0-36bc-48e6-83e8-940f5099117f",
   "metadata": {},
   "outputs": [
    {
     "name": "stdout",
     "output_type": "stream",
     "text": [
      "10\n"
     ]
    }
   ],
   "source": [
    "print(10)"
   ]
  },
  {
   "cell_type": "code",
   "execution_count": 2,
   "id": "003b3ea7-d7fb-4ec2-bda2-3c7642988678",
   "metadata": {},
   "outputs": [
    {
     "name": "stdout",
     "output_type": "stream",
     "text": [
      "15\n"
     ]
    }
   ],
   "source": [
    "print(15)"
   ]
  },
  {
   "cell_type": "code",
   "execution_count": 3,
   "id": "5c0a0954-06b4-4971-b8de-1fd57010a6db",
   "metadata": {},
   "outputs": [
    {
     "name": "stdout",
     "output_type": "stream",
     "text": [
      "3.6\n"
     ]
    }
   ],
   "source": [
    "print(3.6)"
   ]
  },
  {
   "cell_type": "code",
   "execution_count": 4,
   "id": "c243f93a-7e72-4e34-bcde-556a03201bac",
   "metadata": {},
   "outputs": [
    {
     "name": "stdout",
     "output_type": "stream",
     "text": [
      "python is fun\n"
     ]
    }
   ],
   "source": [
    "print(\"python is fun\")"
   ]
  },
  {
   "cell_type": "code",
   "execution_count": 5,
   "id": "fd963e0b-f731-4eea-b344-a1772cce8986",
   "metadata": {},
   "outputs": [
    {
     "name": "stdout",
     "output_type": "stream",
     "text": [
      "60\n"
     ]
    }
   ],
   "source": [
    "print(60)"
   ]
  },
  {
   "cell_type": "code",
   "execution_count": 6,
   "id": "69104ad2-cf0f-4e6b-983b-2c05e5ba7221",
   "metadata": {},
   "outputs": [
    {
     "name": "stdout",
     "output_type": "stream",
     "text": [
      "5.8\n"
     ]
    }
   ],
   "source": [
    "print(5.8)"
   ]
  },
  {
   "cell_type": "code",
   "execution_count": 1,
   "id": "066570a7-f7a0-4776-af3c-69bea1ddcf96",
   "metadata": {},
   "outputs": [
    {
     "name": "stdout",
     "output_type": "stream",
     "text": [
      "10\n"
     ]
    }
   ],
   "source": [
    "print(10)"
   ]
  },
  {
   "cell_type": "markdown",
   "id": "a2add659-37fa-4079-bb59-4d5aaa81c352",
   "metadata": {},
   "source": [
    "# Data types: \n",
    "* int - a perfect number\n",
    "* float -  decimal point number\n",
    "* complex - a+bj\n",
    "* string - \"\", '', \"\"\" \"\"\"\n",
    "* None  - None\n",
    "* Boolean - True, False"
   ]
  },
  {
   "cell_type": "code",
   "execution_count": null,
   "id": "26561521-a5aa-43bb-8e79-8e39c03ca147",
   "metadata": {},
   "outputs": [],
   "source": []
  },
  {
   "cell_type": "markdown",
   "id": "5d5a1c46-936e-4c39-bb74-f0c3b3a83c03",
   "metadata": {},
   "source": [
    "# variable : is a placeholder or conatiner to store data or information\n",
    "rules :\n",
    "* lowercase, uppercase, digits, underscore\n",
    "* don't start with digits\n",
    "* never used inbuilt keyword"
   ]
  },
  {
   "cell_type": "code",
   "execution_count": 9,
   "id": "935dd012-c560-4982-bf1c-a5f7a47e23ed",
   "metadata": {},
   "outputs": [],
   "source": [
    "t = 10"
   ]
  },
  {
   "cell_type": "code",
   "execution_count": 10,
   "id": "1870b93b-0468-4fdf-88d2-5c04d5872525",
   "metadata": {},
   "outputs": [],
   "source": [
    "p = 60"
   ]
  },
  {
   "cell_type": "code",
   "execution_count": 11,
   "id": "2bd561fe-4f00-496e-a7e1-eb11ec2b19fe",
   "metadata": {},
   "outputs": [
    {
     "data": {
      "text/plain": [
       "10"
      ]
     },
     "execution_count": 11,
     "metadata": {},
     "output_type": "execute_result"
    }
   ],
   "source": [
    "t"
   ]
  },
  {
   "cell_type": "code",
   "execution_count": 12,
   "id": "efb89a91-e763-484b-a240-200e9979e6ea",
   "metadata": {},
   "outputs": [
    {
     "data": {
      "text/plain": [
       "60"
      ]
     },
     "execution_count": 12,
     "metadata": {},
     "output_type": "execute_result"
    }
   ],
   "source": [
    "p"
   ]
  },
  {
   "cell_type": "code",
   "execution_count": 13,
   "id": "e4190e1d-2f8c-467d-9070-3435bb96738a",
   "metadata": {},
   "outputs": [
    {
     "data": {
      "text/plain": [
       "int"
      ]
     },
     "execution_count": 13,
     "metadata": {},
     "output_type": "execute_result"
    }
   ],
   "source": [
    "type(p)"
   ]
  },
  {
   "cell_type": "code",
   "execution_count": 14,
   "id": "68360ba7-a8d6-4640-968e-b58ca8da10e2",
   "metadata": {},
   "outputs": [
    {
     "data": {
      "text/plain": [
       "int"
      ]
     },
     "execution_count": 14,
     "metadata": {},
     "output_type": "execute_result"
    }
   ],
   "source": [
    "type(t)"
   ]
  },
  {
   "cell_type": "code",
   "execution_count": 15,
   "id": "f6ae472b-5d2e-4ce0-9803-7c35c8d4d3c3",
   "metadata": {},
   "outputs": [],
   "source": [
    "v = 5.6"
   ]
  },
  {
   "cell_type": "code",
   "execution_count": 16,
   "id": "f55c3633-ce50-4ba2-9880-1544d771d182",
   "metadata": {},
   "outputs": [],
   "source": [
    "u = 9.4"
   ]
  },
  {
   "cell_type": "code",
   "execution_count": 17,
   "id": "07cac340-9045-47e2-adbb-0d46cb922ff3",
   "metadata": {},
   "outputs": [
    {
     "data": {
      "text/plain": [
       "float"
      ]
     },
     "execution_count": 17,
     "metadata": {},
     "output_type": "execute_result"
    }
   ],
   "source": [
    "type(v)"
   ]
  },
  {
   "cell_type": "code",
   "execution_count": 18,
   "id": "ee6b5408-fb56-42cb-8730-009a3e1cff2c",
   "metadata": {},
   "outputs": [
    {
     "data": {
      "text/plain": [
       "float"
      ]
     },
     "execution_count": 18,
     "metadata": {},
     "output_type": "execute_result"
    }
   ],
   "source": [
    "type(u)"
   ]
  },
  {
   "cell_type": "code",
   "execution_count": 19,
   "id": "75941a90-ad79-4b92-8842-dd34fa7a8ac1",
   "metadata": {},
   "outputs": [],
   "source": [
    "h = 5+6j"
   ]
  },
  {
   "cell_type": "code",
   "execution_count": 20,
   "id": "64942294-dcdc-4cd0-acb9-92f551255955",
   "metadata": {},
   "outputs": [
    {
     "data": {
      "text/plain": [
       "complex"
      ]
     },
     "execution_count": 20,
     "metadata": {},
     "output_type": "execute_result"
    }
   ],
   "source": [
    "type(h)"
   ]
  },
  {
   "cell_type": "code",
   "execution_count": 21,
   "id": "3cd09fce-d78c-4f62-b21c-f5b10a5ad5c0",
   "metadata": {},
   "outputs": [
    {
     "data": {
      "text/plain": [
       "complex"
      ]
     },
     "execution_count": 21,
     "metadata": {},
     "output_type": "execute_result"
    }
   ],
   "source": [
    "type(h)"
   ]
  },
  {
   "cell_type": "code",
   "execution_count": 22,
   "id": "eb7f2bad-2985-477c-bd53-f4a010aa86f8",
   "metadata": {},
   "outputs": [],
   "source": [
    "r = \"Python\""
   ]
  },
  {
   "cell_type": "code",
   "execution_count": 23,
   "id": "8f68d5de-2960-407d-8964-5bdd661395b4",
   "metadata": {},
   "outputs": [
    {
     "data": {
      "text/plain": [
       "str"
      ]
     },
     "execution_count": 23,
     "metadata": {},
     "output_type": "execute_result"
    }
   ],
   "source": [
    "type(r)"
   ]
  },
  {
   "cell_type": "code",
   "execution_count": 24,
   "id": "dc5fe841-2ecf-44d2-9c03-a038817190f1",
   "metadata": {},
   "outputs": [],
   "source": [
    "m = True"
   ]
  },
  {
   "cell_type": "code",
   "execution_count": 25,
   "id": "e39df50c-6d21-4d6b-b09d-2bd4fd53cce6",
   "metadata": {},
   "outputs": [],
   "source": [
    "n = False"
   ]
  },
  {
   "cell_type": "code",
   "execution_count": 26,
   "id": "6430e8c9-2bc8-4758-876d-0b8e6a05558f",
   "metadata": {},
   "outputs": [
    {
     "data": {
      "text/plain": [
       "bool"
      ]
     },
     "execution_count": 26,
     "metadata": {},
     "output_type": "execute_result"
    }
   ],
   "source": [
    "type(m)"
   ]
  },
  {
   "cell_type": "code",
   "execution_count": 27,
   "id": "99147c0f-4223-4c33-bbf8-fa5b78fe1399",
   "metadata": {},
   "outputs": [
    {
     "data": {
      "text/plain": [
       "bool"
      ]
     },
     "execution_count": 27,
     "metadata": {},
     "output_type": "execute_result"
    }
   ],
   "source": [
    "type(n)"
   ]
  },
  {
   "cell_type": "code",
   "execution_count": 28,
   "id": "3216498e-27d6-40ac-9ff1-85fd7140f7e6",
   "metadata": {},
   "outputs": [],
   "source": [
    "a = None"
   ]
  },
  {
   "cell_type": "code",
   "execution_count": 32,
   "id": "fb8b5a9a-b0a7-4730-a750-c4a3681b22f9",
   "metadata": {},
   "outputs": [
    {
     "data": {
      "text/plain": [
       "NoneType"
      ]
     },
     "execution_count": 32,
     "metadata": {},
     "output_type": "execute_result"
    }
   ],
   "source": [
    "type(a)"
   ]
  },
  {
   "cell_type": "code",
   "execution_count": null,
   "id": "fe5cc5f2-de1a-4830-b955-72047131fb75",
   "metadata": {},
   "outputs": [],
   "source": []
  },
  {
   "cell_type": "code",
   "execution_count": 1,
   "id": "d3b82bec-879b-4da8-a4d9-f3930c055010",
   "metadata": {},
   "outputs": [],
   "source": [
    "A_sd123 = 4560"
   ]
  },
  {
   "cell_type": "code",
   "execution_count": 2,
   "id": "399c8a4b-da9a-4e56-8a56-c562b0ebaf72",
   "metadata": {},
   "outputs": [
    {
     "data": {
      "text/plain": [
       "4560"
      ]
     },
     "execution_count": 2,
     "metadata": {},
     "output_type": "execute_result"
    }
   ],
   "source": [
    "A_sd123"
   ]
  },
  {
   "cell_type": "code",
   "execution_count": 3,
   "id": "05204a54-27ad-4c38-9628-e9259deae1ad",
   "metadata": {},
   "outputs": [
    {
     "name": "stdout",
     "output_type": "stream",
     "text": [
      "4560\n"
     ]
    }
   ],
   "source": [
    "print(A_sd123)"
   ]
  },
  {
   "cell_type": "code",
   "execution_count": 4,
   "id": "28e85425-6145-4349-a5b1-785dce058b2c",
   "metadata": {},
   "outputs": [],
   "source": [
    "R = 48"
   ]
  },
  {
   "cell_type": "code",
   "execution_count": 5,
   "id": "46e2eb31-cea8-4ee4-ae8f-2b80dee9a5ae",
   "metadata": {},
   "outputs": [],
   "source": [
    "_ = 450"
   ]
  },
  {
   "cell_type": "code",
   "execution_count": 6,
   "id": "ae4f661a-4201-410c-a911-fb14369b0f07",
   "metadata": {},
   "outputs": [],
   "source": [
    "abc1 = 460"
   ]
  },
  {
   "cell_type": "code",
   "execution_count": 7,
   "id": "0efbab6b-309c-4466-ab78-7e19b5be1a94",
   "metadata": {},
   "outputs": [
    {
     "ename": "SyntaxError",
     "evalue": "invalid decimal literal (2232591484.py, line 1)",
     "output_type": "error",
     "traceback": [
      "\u001b[1;36m  Cell \u001b[1;32mIn[7], line 1\u001b[1;36m\u001b[0m\n\u001b[1;33m    1abc= 180\u001b[0m\n\u001b[1;37m    ^\u001b[0m\n\u001b[1;31mSyntaxError\u001b[0m\u001b[1;31m:\u001b[0m invalid decimal literal\n"
     ]
    }
   ],
   "source": [
    "1abc= 180"
   ]
  },
  {
   "cell_type": "code",
   "execution_count": 10,
   "id": "47a037ea-d0ea-4cbe-b922-b032762ca16a",
   "metadata": {},
   "outputs": [],
   "source": [
    "print = 150 #invild variable"
   ]
  },
  {
   "cell_type": "code",
   "execution_count": 12,
   "id": "4fa22573-d8a1-48d5-bb09-133e69e3ea0f",
   "metadata": {},
   "outputs": [],
   "source": [
    "len = 480 #invild variable"
   ]
  },
  {
   "cell_type": "code",
   "execution_count": null,
   "id": "6f32861f-9900-4c8e-8dd3-5fb26b6a3764",
   "metadata": {},
   "outputs": [],
   "source": []
  },
  {
   "cell_type": "code",
   "execution_count": 18,
   "id": "f22f7113-d08e-4979-8046-af627b285fb6",
   "metadata": {},
   "outputs": [],
   "source": [
    "a = 45"
   ]
  },
  {
   "cell_type": "code",
   "execution_count": 19,
   "id": "69a0941b-fcfc-49e6-aab1-fb94e4009754",
   "metadata": {},
   "outputs": [
    {
     "data": {
      "text/plain": [
       "int"
      ]
     },
     "execution_count": 19,
     "metadata": {},
     "output_type": "execute_result"
    }
   ],
   "source": [
    "type(a)"
   ]
  },
  {
   "cell_type": "code",
   "execution_count": null,
   "id": "dd440037-a9d9-43e1-b783-da13ce28616d",
   "metadata": {},
   "outputs": [],
   "source": []
  },
  {
   "cell_type": "code",
   "execution_count": 2,
   "id": "b11bbe94-e36a-4fc5-bb6f-8cc84732d966",
   "metadata": {},
   "outputs": [],
   "source": [
    "a = \"mobile\""
   ]
  },
  {
   "cell_type": "code",
   "execution_count": 3,
   "id": "2312bc95-12a3-4848-bee0-67f3b24f522f",
   "metadata": {},
   "outputs": [
    {
     "data": {
      "text/plain": [
       "str"
      ]
     },
     "execution_count": 3,
     "metadata": {},
     "output_type": "execute_result"
    }
   ],
   "source": [
    "type(a)"
   ]
  },
  {
   "cell_type": "code",
   "execution_count": 4,
   "id": "652cb21a-9511-4d84-8a1a-15b7af50233d",
   "metadata": {},
   "outputs": [],
   "source": [
    "a = 5.6"
   ]
  },
  {
   "cell_type": "code",
   "execution_count": 5,
   "id": "9e0b0933-36a2-4ae0-8177-d3c9ab15266d",
   "metadata": {},
   "outputs": [
    {
     "data": {
      "text/plain": [
       "float"
      ]
     },
     "execution_count": 5,
     "metadata": {},
     "output_type": "execute_result"
    }
   ],
   "source": [
    "type(a)"
   ]
  },
  {
   "cell_type": "code",
   "execution_count": 6,
   "id": "9ffd057b-ae6b-472a-a541-a0c2e4d015bf",
   "metadata": {},
   "outputs": [],
   "source": [
    "a = False"
   ]
  },
  {
   "cell_type": "code",
   "execution_count": 7,
   "id": "d571df07-9d40-4eae-a7ea-101891f2ca83",
   "metadata": {},
   "outputs": [
    {
     "data": {
      "text/plain": [
       "bool"
      ]
     },
     "execution_count": 7,
     "metadata": {},
     "output_type": "execute_result"
    }
   ],
   "source": [
    "type(a)"
   ]
  },
  {
   "cell_type": "code",
   "execution_count": 8,
   "id": "7826dda9-44df-43de-b097-3bdc69c8efbc",
   "metadata": {},
   "outputs": [],
   "source": [
    "a = 5+6j"
   ]
  },
  {
   "cell_type": "code",
   "execution_count": 9,
   "id": "82d1ea04-0c5a-433c-bc8e-a1819cb4c67e",
   "metadata": {},
   "outputs": [
    {
     "data": {
      "text/plain": [
       "complex"
      ]
     },
     "execution_count": 9,
     "metadata": {},
     "output_type": "execute_result"
    }
   ],
   "source": [
    "type(a)"
   ]
  },
  {
   "cell_type": "code",
   "execution_count": null,
   "id": "ee04057d-6a6a-4b9a-b50c-ad42f151d66f",
   "metadata": {},
   "outputs": [],
   "source": []
  },
  {
   "cell_type": "code",
   "execution_count": 10,
   "id": "bae96582-82c8-4409-b4be-6897996c7699",
   "metadata": {},
   "outputs": [
    {
     "data": {
      "text/plain": [
       "(5+6j)"
      ]
     },
     "execution_count": 10,
     "metadata": {},
     "output_type": "execute_result"
    }
   ],
   "source": [
    "a"
   ]
  },
  {
   "cell_type": "code",
   "execution_count": 11,
   "id": "315d585c-289f-4096-a5e9-068fc0f45d87",
   "metadata": {},
   "outputs": [
    {
     "name": "stdout",
     "output_type": "stream",
     "text": [
      "(5+6j)\n"
     ]
    }
   ],
   "source": [
    "print(a)"
   ]
  },
  {
   "cell_type": "code",
   "execution_count": null,
   "id": "13dafa60-b003-47c6-b022-75213203a7b5",
   "metadata": {},
   "outputs": [],
   "source": []
  },
  {
   "cell_type": "code",
   "execution_count": 13,
   "id": "e7497d6d-c17a-49c5-9caa-6a41a0be2147",
   "metadata": {},
   "outputs": [],
   "source": [
    "# python is dynamic in nature"
   ]
  },
  {
   "cell_type": "code",
   "execution_count": null,
   "id": "4654ec81-16df-4774-93bd-1b6f97465b15",
   "metadata": {},
   "outputs": [],
   "source": []
  },
  {
   "cell_type": "code",
   "execution_count": 14,
   "id": "d02f487d-4d96-486f-975e-e3e16479470b",
   "metadata": {},
   "outputs": [
    {
     "data": {
      "text/plain": [
       "(5+6j)"
      ]
     },
     "execution_count": 14,
     "metadata": {},
     "output_type": "execute_result"
    }
   ],
   "source": [
    "a"
   ]
  },
  {
   "cell_type": "code",
   "execution_count": 15,
   "id": "2324501d-2776-4ed1-8403-370b527f8c81",
   "metadata": {},
   "outputs": [
    {
     "data": {
      "text/plain": [
       "(5+6j)"
      ]
     },
     "execution_count": 15,
     "metadata": {},
     "output_type": "execute_result"
    }
   ],
   "source": [
    "a"
   ]
  },
  {
   "cell_type": "code",
   "execution_count": 16,
   "id": "201cb018-3eab-4a19-8da4-cf460a79a22d",
   "metadata": {},
   "outputs": [
    {
     "data": {
      "text/plain": [
       "1397964222480"
      ]
     },
     "execution_count": 16,
     "metadata": {},
     "output_type": "execute_result"
    }
   ],
   "source": [
    "id(a)"
   ]
  },
  {
   "cell_type": "code",
   "execution_count": 17,
   "id": "cf49344b-3971-4739-bf30-901ac14d2768",
   "metadata": {},
   "outputs": [],
   "source": [
    "y = 78"
   ]
  },
  {
   "cell_type": "code",
   "execution_count": 18,
   "id": "11ab480b-c1c6-447a-9fed-8d8a624d5d7a",
   "metadata": {},
   "outputs": [
    {
     "data": {
      "text/plain": [
       "140725525627736"
      ]
     },
     "execution_count": 18,
     "metadata": {},
     "output_type": "execute_result"
    }
   ],
   "source": [
    "id(y)"
   ]
  },
  {
   "cell_type": "code",
   "execution_count": null,
   "id": "d942fc9b-ce76-414a-9bf8-b4369826fbdc",
   "metadata": {},
   "outputs": [],
   "source": []
  },
  {
   "cell_type": "code",
   "execution_count": 2,
   "id": "982128a4-3642-43c5-9ac3-eb97143505ff",
   "metadata": {},
   "outputs": [],
   "source": [
    "# input() : it takes input from user # it will be providing you string"
   ]
  },
  {
   "cell_type": "code",
   "execution_count": 21,
   "id": "098fb5c2-0797-416f-a6fb-ab44cb9e0751",
   "metadata": {},
   "outputs": [
    {
     "name": "stdin",
     "output_type": "stream",
     "text": [
      " 45\n"
     ]
    },
    {
     "data": {
      "text/plain": [
       "'45'"
      ]
     },
     "execution_count": 21,
     "metadata": {},
     "output_type": "execute_result"
    }
   ],
   "source": [
    "input()"
   ]
  },
  {
   "cell_type": "code",
   "execution_count": 22,
   "id": "89423bdd-9357-4064-9038-e2a501ec81b1",
   "metadata": {},
   "outputs": [
    {
     "name": "stdin",
     "output_type": "stream",
     "text": [
      "Ennter your name: pooja\n"
     ]
    }
   ],
   "source": [
    "name = input(\"Ennter your name:\")"
   ]
  },
  {
   "cell_type": "code",
   "execution_count": 23,
   "id": "b7a5dd2a-b67a-4070-a82e-bcd05ab7bb10",
   "metadata": {},
   "outputs": [
    {
     "data": {
      "text/plain": [
       "'pooja'"
      ]
     },
     "execution_count": 23,
     "metadata": {},
     "output_type": "execute_result"
    }
   ],
   "source": [
    "name"
   ]
  },
  {
   "cell_type": "code",
   "execution_count": 24,
   "id": "f9c16ce3-64cd-4b66-96a7-ba466d5483bd",
   "metadata": {},
   "outputs": [
    {
     "data": {
      "text/plain": [
       "1397972271536"
      ]
     },
     "execution_count": 24,
     "metadata": {},
     "output_type": "execute_result"
    }
   ],
   "source": [
    "id(name)"
   ]
  },
  {
   "cell_type": "code",
   "execution_count": 25,
   "id": "dfa6226d-ef3d-49fd-ae8b-8401845b8506",
   "metadata": {},
   "outputs": [
    {
     "name": "stdout",
     "output_type": "stream",
     "text": [
      "pooja\n"
     ]
    }
   ],
   "source": [
    "print(name)"
   ]
  },
  {
   "cell_type": "code",
   "execution_count": 27,
   "id": "a9dacb13-0c39-456e-935f-f0045596dd7e",
   "metadata": {},
   "outputs": [
    {
     "name": "stdin",
     "output_type": "stream",
     "text": [
      "Enter your age: 30\n"
     ]
    }
   ],
   "source": [
    "age= input(\"Enter your age:\")"
   ]
  },
  {
   "cell_type": "code",
   "execution_count": 28,
   "id": "e33740b9-348b-4b11-9182-f0e9fe3d7149",
   "metadata": {},
   "outputs": [
    {
     "data": {
      "text/plain": [
       "'30'"
      ]
     },
     "execution_count": 28,
     "metadata": {},
     "output_type": "execute_result"
    }
   ],
   "source": [
    "age"
   ]
  },
  {
   "cell_type": "code",
   "execution_count": 29,
   "id": "2ebbbbba-a0d8-412a-a2aa-b9a30089a9a5",
   "metadata": {},
   "outputs": [
    {
     "data": {
      "text/plain": [
       "str"
      ]
     },
     "execution_count": 29,
     "metadata": {},
     "output_type": "execute_result"
    }
   ],
   "source": [
    "type(age)"
   ]
  },
  {
   "cell_type": "code",
   "execution_count": 31,
   "id": "046ec2db-23a2-4e09-8f3c-5cba62de0d81",
   "metadata": {},
   "outputs": [],
   "source": [
    "# typecasting : converting one data type into another data type"
   ]
  },
  {
   "cell_type": "code",
   "execution_count": 33,
   "id": "52533ec3-8412-450f-af52-198e31330e52",
   "metadata": {},
   "outputs": [
    {
     "data": {
      "text/plain": [
       "'30'"
      ]
     },
     "execution_count": 33,
     "metadata": {},
     "output_type": "execute_result"
    }
   ],
   "source": [
    "age"
   ]
  },
  {
   "cell_type": "code",
   "execution_count": 34,
   "id": "ebcd28b2-baac-4b96-9aa1-e01be26cc956",
   "metadata": {},
   "outputs": [],
   "source": [
    "age = int(age)"
   ]
  },
  {
   "cell_type": "code",
   "execution_count": 35,
   "id": "c2de3556-4898-4517-8663-569fd8ae1c43",
   "metadata": {},
   "outputs": [
    {
     "data": {
      "text/plain": [
       "30"
      ]
     },
     "execution_count": 35,
     "metadata": {},
     "output_type": "execute_result"
    }
   ],
   "source": [
    "age"
   ]
  },
  {
   "cell_type": "code",
   "execution_count": 36,
   "id": "d17873d1-53fe-4078-ad2b-511e291c3a21",
   "metadata": {},
   "outputs": [
    {
     "data": {
      "text/plain": [
       "int"
      ]
     },
     "execution_count": 36,
     "metadata": {},
     "output_type": "execute_result"
    }
   ],
   "source": [
    "type(age)"
   ]
  },
  {
   "cell_type": "code",
   "execution_count": 37,
   "id": "c1bebc3b-c9d9-431f-916b-a12e2f1e4bcf",
   "metadata": {},
   "outputs": [],
   "source": [
    "age = float(age)"
   ]
  },
  {
   "cell_type": "code",
   "execution_count": 38,
   "id": "a626643f-2718-49a2-bd2b-d3bc2584e309",
   "metadata": {},
   "outputs": [
    {
     "data": {
      "text/plain": [
       "30.0"
      ]
     },
     "execution_count": 38,
     "metadata": {},
     "output_type": "execute_result"
    }
   ],
   "source": [
    "age"
   ]
  },
  {
   "cell_type": "code",
   "execution_count": 39,
   "id": "e8cd5746-a0e1-47c5-b0bd-d9ba56a5b3a3",
   "metadata": {},
   "outputs": [
    {
     "data": {
      "text/plain": [
       "float"
      ]
     },
     "execution_count": 39,
     "metadata": {},
     "output_type": "execute_result"
    }
   ],
   "source": [
    "type(age)"
   ]
  },
  {
   "cell_type": "code",
   "execution_count": 40,
   "id": "b50ebf54-8aa5-4a09-b881-d2315617de21",
   "metadata": {},
   "outputs": [],
   "source": [
    "age = complex(age)"
   ]
  },
  {
   "cell_type": "code",
   "execution_count": 41,
   "id": "eabfcae8-acf9-4aec-bc82-229a8e69a1d8",
   "metadata": {},
   "outputs": [
    {
     "data": {
      "text/plain": [
       "(30+0j)"
      ]
     },
     "execution_count": 41,
     "metadata": {},
     "output_type": "execute_result"
    }
   ],
   "source": [
    "age"
   ]
  },
  {
   "cell_type": "code",
   "execution_count": 42,
   "id": "33889f20-ebed-403a-a389-f24e8dc83a83",
   "metadata": {},
   "outputs": [
    {
     "data": {
      "text/plain": [
       "complex"
      ]
     },
     "execution_count": 42,
     "metadata": {},
     "output_type": "execute_result"
    }
   ],
   "source": [
    "type(age)"
   ]
  },
  {
   "cell_type": "code",
   "execution_count": 43,
   "id": "1c91adf4-8350-46f9-850e-b2b7afed3e1e",
   "metadata": {},
   "outputs": [],
   "source": [
    "age = str(age)"
   ]
  },
  {
   "cell_type": "code",
   "execution_count": 44,
   "id": "9120a409-0d28-437f-a308-36ffe0ca79fb",
   "metadata": {},
   "outputs": [
    {
     "data": {
      "text/plain": [
       "'(30+0j)'"
      ]
     },
     "execution_count": 44,
     "metadata": {},
     "output_type": "execute_result"
    }
   ],
   "source": [
    "age"
   ]
  },
  {
   "cell_type": "code",
   "execution_count": 45,
   "id": "fa70fd8e-68ab-4ef6-9187-23612942344d",
   "metadata": {},
   "outputs": [
    {
     "data": {
      "text/plain": [
       "str"
      ]
     },
     "execution_count": 45,
     "metadata": {},
     "output_type": "execute_result"
    }
   ],
   "source": [
    "type(age)"
   ]
  },
  {
   "cell_type": "code",
   "execution_count": null,
   "id": "13d5af0e-857a-4f99-94f5-30493f4fbc7c",
   "metadata": {},
   "outputs": [],
   "source": []
  },
  {
   "cell_type": "code",
   "execution_count": 49,
   "id": "d7b593f5-e6e4-44e3-b8eb-7bdcb1a005ef",
   "metadata": {},
   "outputs": [
    {
     "name": "stdin",
     "output_type": "stream",
     "text": [
      "Eneter your python marks: 85\n"
     ]
    }
   ],
   "source": [
    "marks = int(input(\"Eneter your python marks:\"))"
   ]
  },
  {
   "cell_type": "code",
   "execution_count": 50,
   "id": "c740a6cd-0ae0-413b-b166-4f5d297097ba",
   "metadata": {},
   "outputs": [
    {
     "data": {
      "text/plain": [
       "85"
      ]
     },
     "execution_count": 50,
     "metadata": {},
     "output_type": "execute_result"
    }
   ],
   "source": [
    "marks"
   ]
  },
  {
   "cell_type": "code",
   "execution_count": 51,
   "id": "4c3c4152-7c30-4735-8a64-a35550526016",
   "metadata": {},
   "outputs": [
    {
     "data": {
      "text/plain": [
       "int"
      ]
     },
     "execution_count": 51,
     "metadata": {},
     "output_type": "execute_result"
    }
   ],
   "source": [
    "type(marks)"
   ]
  },
  {
   "cell_type": "code",
   "execution_count": null,
   "id": "4e798841-6cbc-4934-8dca-af12f2b304d8",
   "metadata": {},
   "outputs": [],
   "source": []
  },
  {
   "cell_type": "markdown",
   "id": "8ec55384-edae-4ca7-aca9-d801c86dbc25",
   "metadata": {},
   "source": [
    "# python Statemnets :\n",
    "* Single line Statements\n",
    "* Multiple line statemnets"
   ]
  },
  {
   "cell_type": "code",
   "execution_count": 53,
   "id": "15eed7ce-cbd5-4f4e-b6d3-7d2f78d79052",
   "metadata": {},
   "outputs": [],
   "source": [
    "# Single line Statements:"
   ]
  },
  {
   "cell_type": "code",
   "execution_count": 54,
   "id": "1eacecee-b257-4fab-b8e8-770d3da5d0b8",
   "metadata": {},
   "outputs": [],
   "source": [
    "l = 96"
   ]
  },
  {
   "cell_type": "code",
   "execution_count": 55,
   "id": "b68a0c68-b198-4504-abd0-a05861c6fd12",
   "metadata": {},
   "outputs": [],
   "source": [
    "a = 78"
   ]
  },
  {
   "cell_type": "code",
   "execution_count": 56,
   "id": "476b00f5-b7b7-41f0-9221-71faaafeef13",
   "metadata": {},
   "outputs": [],
   "source": [
    "z = \"data analytics\""
   ]
  },
  {
   "cell_type": "code",
   "execution_count": null,
   "id": "eda1f999-897a-4f2e-a32e-303c89400691",
   "metadata": {},
   "outputs": [],
   "source": []
  },
  {
   "cell_type": "code",
   "execution_count": 57,
   "id": "78fb1d09-ed86-4429-9d3a-e755dce6bc8a",
   "metadata": {},
   "outputs": [],
   "source": [
    "# Multiple line statemnets:"
   ]
  },
  {
   "cell_type": "code",
   "execution_count": 58,
   "id": "ec52a1c4-dcce-4a78-8c34-f35810cf7d17",
   "metadata": {},
   "outputs": [],
   "source": [
    "a = (1+2+3+\n",
    "    4+5+6+\n",
    "    7+8+9)"
   ]
  },
  {
   "cell_type": "code",
   "execution_count": 59,
   "id": "85f43e99-2d04-40ac-bd4a-7528245901ee",
   "metadata": {},
   "outputs": [
    {
     "data": {
      "text/plain": [
       "45"
      ]
     },
     "execution_count": 59,
     "metadata": {},
     "output_type": "execute_result"
    }
   ],
   "source": [
    "a"
   ]
  },
  {
   "cell_type": "code",
   "execution_count": 60,
   "id": "d4665c95-0f43-4147-b36d-37e5ed02a16e",
   "metadata": {},
   "outputs": [],
   "source": [
    "s = 1+2+3+\\\n",
    "    4+5+6+\\\n",
    "    7+8+9+1"
   ]
  },
  {
   "cell_type": "code",
   "execution_count": 61,
   "id": "49a24260-f3cf-452b-a40f-2973ec077b87",
   "metadata": {},
   "outputs": [
    {
     "data": {
      "text/plain": [
       "46"
      ]
     },
     "execution_count": 61,
     "metadata": {},
     "output_type": "execute_result"
    }
   ],
   "source": [
    "s"
   ]
  },
  {
   "cell_type": "code",
   "execution_count": null,
   "id": "6f94af03-7c08-4b8d-8776-a817cfb991de",
   "metadata": {},
   "outputs": [],
   "source": []
  },
  {
   "cell_type": "code",
   "execution_count": 62,
   "id": "09112e95-b95d-4848-b2c5-eadcd3224ac9",
   "metadata": {},
   "outputs": [],
   "source": [
    "# output Formatting"
   ]
  },
  {
   "cell_type": "code",
   "execution_count": 65,
   "id": "a7dbbf0b-6484-4e21-9cdc-a2e6daf82ea6",
   "metadata": {},
   "outputs": [],
   "source": [
    "a = 10\n",
    "b = 20\n",
    "c = 30"
   ]
  },
  {
   "cell_type": "code",
   "execution_count": 64,
   "id": "ef966ef5-9993-4a79-8c1b-6cf28d8eb7c7",
   "metadata": {},
   "outputs": [
    {
     "name": "stdout",
     "output_type": "stream",
     "text": [
      "The value of a is 10 and b is 20\n"
     ]
    }
   ],
   "source": [
    "print(\"The value of a is {} and b is {}\".format(a,b))"
   ]
  },
  {
   "cell_type": "code",
   "execution_count": 67,
   "id": "b9de681b-da0d-400a-a200-44993bab494a",
   "metadata": {},
   "outputs": [
    {
     "name": "stdout",
     "output_type": "stream",
     "text": [
      "The value of a is 10 and b is 20 and c is 30\n"
     ]
    }
   ],
   "source": [
    "print(\"The value of a is {} and b is {} and c is {}\".format(a,b,c))"
   ]
  },
  {
   "cell_type": "code",
   "execution_count": 68,
   "id": "52a341b3-3bab-47b6-9855-d1850b4f8439",
   "metadata": {},
   "outputs": [
    {
     "name": "stdout",
     "output_type": "stream",
     "text": [
      "The value of a is 30 and b is 20 and c is 10\n"
     ]
    }
   ],
   "source": [
    "print(\"The value of a is {2} and b is {1} and c is {0}\".format(a,b,c))"
   ]
  },
  {
   "cell_type": "code",
   "execution_count": null,
   "id": "8c72cd87-9dbb-413a-8164-bc4993884f9c",
   "metadata": {},
   "outputs": [],
   "source": []
  },
  {
   "cell_type": "code",
   "execution_count": 69,
   "id": "468f1efc-e8c7-41a4-b4b8-db0236e09675",
   "metadata": {},
   "outputs": [],
   "source": [
    "name = \"pooja\"\n",
    "greet = \"Good Morning\""
   ]
  },
  {
   "cell_type": "code",
   "execution_count": 70,
   "id": "3b2f8469-59f6-4266-8e52-79cf7733cc1c",
   "metadata": {},
   "outputs": [
    {
     "name": "stdout",
     "output_type": "stream",
     "text": [
      "Hi pooja and Good Morning\n"
     ]
    }
   ],
   "source": [
    "print(\"Hi {} and {}\".format(name, greet))"
   ]
  },
  {
   "cell_type": "code",
   "execution_count": 72,
   "id": "21595f78-760f-441c-93a5-fc55caf80a8f",
   "metadata": {},
   "outputs": [
    {
     "name": "stdout",
     "output_type": "stream",
     "text": [
      "Hi Good Morning and pooja\n"
     ]
    }
   ],
   "source": [
    "print(\"Hi {g} and {n}\".format(n = name, g = greet))"
   ]
  },
  {
   "cell_type": "code",
   "execution_count": 73,
   "id": "0368acfc-4144-4ec9-87f2-dcc6350fbaea",
   "metadata": {},
   "outputs": [
    {
     "name": "stdout",
     "output_type": "stream",
     "text": [
      "Hi pooja and Good Morning\n"
     ]
    }
   ],
   "source": [
    "print(\"Hi {n} and {g}\".format(n = name, g = greet))"
   ]
  },
  {
   "cell_type": "code",
   "execution_count": null,
   "id": "ee85759d-c166-420e-9ab5-f91d1ffaaef0",
   "metadata": {},
   "outputs": [],
   "source": []
  },
  {
   "cell_type": "code",
   "execution_count": 74,
   "id": "c85adb73-bade-4907-9c2f-3d468cdef9c4",
   "metadata": {},
   "outputs": [],
   "source": [
    "# f-string"
   ]
  },
  {
   "cell_type": "code",
   "execution_count": 75,
   "id": "426ec0d3-c547-4e03-8f63-53fe78ed78ca",
   "metadata": {},
   "outputs": [],
   "source": [
    "a = 10\n",
    "b = 20\n",
    "c = 30"
   ]
  },
  {
   "cell_type": "code",
   "execution_count": 76,
   "id": "59b5d969-b57e-451f-a5df-061c8b0cb1af",
   "metadata": {},
   "outputs": [
    {
     "name": "stdout",
     "output_type": "stream",
     "text": [
      "The value of a is 10 and b is 20 and c is 30\n"
     ]
    }
   ],
   "source": [
    "print(f\"The value of a is {a} and b is {b} and c is {c}\")"
   ]
  },
  {
   "cell_type": "code",
   "execution_count": 77,
   "id": "eb3debfb-22a6-4656-ac47-5cf4dfc3c161",
   "metadata": {},
   "outputs": [],
   "source": [
    "name = \"pooja\"\n",
    "greet = \"Good Morning\""
   ]
  },
  {
   "cell_type": "code",
   "execution_count": 78,
   "id": "0b290a5d-0534-4c2a-8627-6c3241acef47",
   "metadata": {},
   "outputs": [
    {
     "name": "stdout",
     "output_type": "stream",
     "text": [
      "Hi pooja and Good Morning\n"
     ]
    }
   ],
   "source": [
    "print(f\"Hi {name} and {greet}\")"
   ]
  },
  {
   "cell_type": "code",
   "execution_count": null,
   "id": "ccf1e43c-5d96-4942-8c32-da74dae1d0a9",
   "metadata": {},
   "outputs": [],
   "source": []
  },
  {
   "cell_type": "code",
   "execution_count": null,
   "id": "7ef71bc2-d2f6-4a90-a4fb-b03ffb25640f",
   "metadata": {},
   "outputs": [],
   "source": []
  },
  {
   "cell_type": "code",
   "execution_count": 88,
   "id": "33884b7a-a1e7-4a28-83d9-0119cef087c0",
   "metadata": {},
   "outputs": [
    {
     "name": "stdin",
     "output_type": "stream",
     "text": [
      "Enter any word: level\n"
     ]
    }
   ],
   "source": [
    "word = input(\"Enter any word:\")"
   ]
  },
  {
   "cell_type": "code",
   "execution_count": 89,
   "id": "0512a99c-ac73-44ec-9bc5-e366f3cd3524",
   "metadata": {},
   "outputs": [],
   "source": [
    "rev_word = word[::-1]"
   ]
  },
  {
   "cell_type": "code",
   "execution_count": 90,
   "id": "575a3483-90ab-40d4-bd2d-44893c2fa02f",
   "metadata": {},
   "outputs": [
    {
     "name": "stdout",
     "output_type": "stream",
     "text": [
      "yes\n"
     ]
    }
   ],
   "source": [
    "if word == rev_word:\n",
    "    print(\"yes\")\n",
    "else:\n",
    "    print(\"no\")"
   ]
  },
  {
   "cell_type": "code",
   "execution_count": null,
   "id": "89c359b4-e135-44c0-ab95-177d751e523f",
   "metadata": {},
   "outputs": [],
   "source": []
  },
  {
   "cell_type": "code",
   "execution_count": null,
   "id": "09ed433b-fb04-410c-a71f-7f572e19a3b7",
   "metadata": {},
   "outputs": [],
   "source": []
  }
 ],
 "metadata": {
  "kernelspec": {
   "display_name": "Python 3 (ipykernel)",
   "language": "python",
   "name": "python3"
  },
  "language_info": {
   "codemirror_mode": {
    "name": "ipython",
    "version": 3
   },
   "file_extension": ".py",
   "mimetype": "text/x-python",
   "name": "python",
   "nbconvert_exporter": "python",
   "pygments_lexer": "ipython3",
   "version": "3.12.4"
  }
 },
 "nbformat": 4,
 "nbformat_minor": 5
}
